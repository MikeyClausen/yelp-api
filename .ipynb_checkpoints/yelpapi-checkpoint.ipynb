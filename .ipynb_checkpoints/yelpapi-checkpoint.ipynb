{
 "cells": [
  {
   "cell_type": "code",
   "execution_count": 1,
   "id": "f148616f",
   "metadata": {},
   "outputs": [],
   "source": [
    "# Standard Imports\n",
    "import os\n",
    "os.environ[\"OMP_NUM_THREADS\"] = '1'\n",
    "import numpy as np\n",
    "import pandas as pd\n",
    "import matplotlib.pyplot as plt\n",
    "import seaborn as sns\n",
    "# Additional Imports\n",
    "import json, math, time\n",
    "from yelpapi import YelpAPI\n",
    "from tqdm.notebook import tqdm_notebook"
   ]
  },
  {
   "cell_type": "code",
   "execution_count": 2,
   "id": "86f1a4e6",
   "metadata": {},
   "outputs": [
    {
     "data": {
      "text/plain": [
       "dict_keys(['client-id', 'api-key'])"
      ]
     },
     "execution_count": 2,
     "metadata": {},
     "output_type": "execute_result"
    }
   ],
   "source": [
    "with open('C:/Users/Mikey/Documents/keys/yelp_api.json') as f:\n",
    "    login = json.load(f)\n",
    "login.keys()"
   ]
  },
  {
   "cell_type": "code",
   "execution_count": 3,
   "id": "3dc6a936",
   "metadata": {},
   "outputs": [
    {
     "data": {
      "text/plain": [
       "<yelpapi.yelpapi.YelpAPI at 0x1ed024293d0>"
      ]
     },
     "execution_count": 3,
     "metadata": {},
     "output_type": "execute_result"
    }
   ],
   "source": [
    "yelp_api = YelpAPI(login['api-key'], timeout_s=5.0)\n",
    "yelp_api"
   ]
  },
  {
   "cell_type": "markdown",
   "id": "9d4cd619",
   "metadata": {},
   "source": [
    "# API CALLS"
   ]
  },
  {
   "cell_type": "code",
   "execution_count": 4,
   "id": "7d8f4e89",
   "metadata": {},
   "outputs": [],
   "source": [
    "#Making Chicago and breakfast easily callable.\n",
    "LOCATION = 'Chicago, IL'\n",
    "TERM = 'Breakfast'"
   ]
  },
  {
   "cell_type": "code",
   "execution_count": 5,
   "id": "aea4f9c5",
   "metadata": {},
   "outputs": [
    {
     "data": {
      "text/plain": [
       "'Data/results_progress_breakfast.json'"
      ]
     },
     "execution_count": 5,
     "metadata": {},
     "output_type": "execute_result"
    }
   ],
   "source": [
    "#JSON file location\n",
    "JSON = \"Data/results_progress_breakfast.json\"\n",
    "JSON"
   ]
  },
  {
   "cell_type": "code",
   "execution_count": 6,
   "id": "ee9a4be4",
   "metadata": {},
   "outputs": [],
   "source": [
    "#For loop to deal with JSON file\n",
    "def create_json_file(JSON,delete_if_exists=False):\n",
    "    #Check if it exsists.\n",
    "    file_exists=os.path.isfile(JSON)\n",
    "    #IF exists\n",
    "    if file_exists==True:\n",
    "        #Delete file?\n",
    "        if delete_if_exists==True:\n",
    "            print(f\"[!] {JSON} already exists. Deleting previous file...\")\n",
    "            #delete file, then confirm it no longer exists\n",
    "            os.remove(JSON)\n",
    "            #Creating file again.\n",
    "            create_json_file(JSON,delete_if_exists=False)\n",
    "        else:\n",
    "            print(f\"[i] {JSON} already exists.\")\n",
    "    #If it does NOT exist\n",
    "    else:\n",
    "        #Inform, save empty list\n",
    "        print(f\"[i] {JSON} not found. Saving empty list to new file.\")\n",
    "        #create any needed folders, get folder name.\n",
    "        folder=os.path.dirname(JSON)\n",
    "        #IF JSON includes folder.\n",
    "        if len(folder)>0:\n",
    "            #Create it\n",
    "            os.makedirs(folder,exist_ok=True)\n",
    "            #Save empty list.\n",
    "        with open(JSON,'w') as f:\n",
    "            json.dump([],f)  "
   ]
  },
  {
   "cell_type": "code",
   "execution_count": 7,
   "id": "d268bc4f",
   "metadata": {},
   "outputs": [
    {
     "name": "stdout",
     "output_type": "stream",
     "text": [
      "[i] Data/results_progress_breakfast.json not found. Saving empty list to new file.\n",
      "- 0 previous results found.\n"
     ]
    },
    {
     "data": {
      "text/plain": [
       "480"
      ]
     },
     "execution_count": 7,
     "metadata": {},
     "output_type": "execute_result"
    }
   ],
   "source": [
    "#New empty JSON\n",
    "create_json_file(JSON, delete_if_exists=True)\n",
    "#load Previous results, len to offset.\n",
    "with open(JSON,'r') as f:\n",
    "    previous_results = json.load(f)\n",
    "#offset based on previous results\n",
    "n_results = len(previous_results)\n",
    "print(f'- {n_results} previous results found.')\n",
    "#use yelp_api, search_query method to perform api call.\n",
    "results = yelp_api.search_query(location=LOCATION,\n",
    "                                term=TERM,\n",
    "                               offset=n_results)\n",
    "#How many results?\n",
    "total_results = results['total']\n",
    "#how many did we get details for?\n",
    "results_per_page = len(results['businesses'])\n",
    "#math.ceil to round up for the total number.\n",
    "n_pages = math.ceil((results['total']-n_results)/ results_per_page)\n",
    "n_pages"
   ]
  },
  {
   "cell_type": "code",
   "execution_count": 8,
   "id": "00644a39",
   "metadata": {},
   "outputs": [
    {
     "data": {
      "application/vnd.jupyter.widget-view+json": {
       "model_id": "65491a69685945218d100e8cb3947432",
       "version_major": 2,
       "version_minor": 0
      },
      "text/plain": [
       "  0%|          | 0/480 [00:00<?, ?it/s]"
      ]
     },
     "metadata": {},
     "output_type": "display_data"
    },
    {
     "name": "stdout",
     "output_type": "stream",
     "text": [
      "Exceeded 1000 api calls. Stopping loop.\n"
     ]
    }
   ],
   "source": [
    "for i in tqdm_notebook( range(1,n_pages+1)):\n",
    "    with open(JSON, 'r') as f:\n",
    "        previous_results = json.load(f)\n",
    "    #save number of results\n",
    "    n_results = len(previous_results)\n",
    "    if (n_results + results_per_page) > 1000:\n",
    "        print('Exceeded 1000 api calls. Stopping loop.')\n",
    "        break\n",
    "    #n_results, as the offset\n",
    "    results = yelp_api.search_query(location=LOCATION,\n",
    "                                    term=TERM, \n",
    "                                    offset=n_results)\n",
    "    #append new results and save to file.\n",
    "    previous_results.extend(results['businesses'])\n",
    "    #display previous_results\n",
    "    with open(JSON,'w') as f:\n",
    "        json.dump(previous_results,f)\n",
    "    \n",
    "    time.sleep(.2)"
   ]
  },
  {
   "cell_type": "code",
   "execution_count": 9,
   "id": "fa87179a",
   "metadata": {},
   "outputs": [
    {
     "data": {
      "text/html": [
       "<div>\n",
       "<style scoped>\n",
       "    .dataframe tbody tr th:only-of-type {\n",
       "        vertical-align: middle;\n",
       "    }\n",
       "\n",
       "    .dataframe tbody tr th {\n",
       "        vertical-align: top;\n",
       "    }\n",
       "\n",
       "    .dataframe thead th {\n",
       "        text-align: right;\n",
       "    }\n",
       "</style>\n",
       "<table border=\"1\" class=\"dataframe\">\n",
       "  <thead>\n",
       "    <tr style=\"text-align: right;\">\n",
       "      <th></th>\n",
       "      <th>id</th>\n",
       "      <th>alias</th>\n",
       "      <th>name</th>\n",
       "      <th>image_url</th>\n",
       "      <th>is_closed</th>\n",
       "      <th>url</th>\n",
       "      <th>review_count</th>\n",
       "      <th>categories</th>\n",
       "      <th>rating</th>\n",
       "      <th>coordinates</th>\n",
       "      <th>transactions</th>\n",
       "      <th>price</th>\n",
       "      <th>location</th>\n",
       "      <th>phone</th>\n",
       "      <th>display_phone</th>\n",
       "      <th>distance</th>\n",
       "    </tr>\n",
       "  </thead>\n",
       "  <tbody>\n",
       "    <tr>\n",
       "      <th>0</th>\n",
       "      <td>cKZNbMvoqJaUe7n6lf6i7w</td>\n",
       "      <td>wildberry-pancakes-and-cafe-chicago-2</td>\n",
       "      <td>Wildberry Pancakes and Cafe</td>\n",
       "      <td>https://s3-media3.fl.yelpcdn.com/bphoto/uMLcfB...</td>\n",
       "      <td>False</td>\n",
       "      <td>https://www.yelp.com/biz/wildberry-pancakes-an...</td>\n",
       "      <td>9225</td>\n",
       "      <td>[{'alias': 'pancakes', 'title': 'Pancakes'}, {...</td>\n",
       "      <td>4.5</td>\n",
       "      <td>{'latitude': 41.884668, 'longitude': -87.62288}</td>\n",
       "      <td>[pickup, delivery]</td>\n",
       "      <td>$$</td>\n",
       "      <td>{'address1': '130 E Randolph St', 'address2': ...</td>\n",
       "      <td>+13129389777</td>\n",
       "      <td>(312) 938-9777</td>\n",
       "      <td>10721.811415</td>\n",
       "    </tr>\n",
       "    <tr>\n",
       "      <th>1</th>\n",
       "      <td>nnP8axu680aDGPdQ4TuSkA</td>\n",
       "      <td>wake-n-bacon-chicago</td>\n",
       "      <td>Wake ‘n Bacon</td>\n",
       "      <td>https://s3-media1.fl.yelpcdn.com/bphoto/rbp7mW...</td>\n",
       "      <td>False</td>\n",
       "      <td>https://www.yelp.com/biz/wake-n-bacon-chicago?...</td>\n",
       "      <td>418</td>\n",
       "      <td>[{'alias': 'breakfast_brunch', 'title': 'Break...</td>\n",
       "      <td>4.0</td>\n",
       "      <td>{'latitude': 41.940442, 'longitude': -87.64041}</td>\n",
       "      <td>[pickup, restaurant_reservation, delivery]</td>\n",
       "      <td>$$</td>\n",
       "      <td>{'address1': '420 W Belmont Ave', 'address2': ...</td>\n",
       "      <td>+17738805100</td>\n",
       "      <td>(773) 880-5100</td>\n",
       "      <td>14211.336624</td>\n",
       "    </tr>\n",
       "    <tr>\n",
       "      <th>2</th>\n",
       "      <td>d7n-NmN_c65-8Gzz2FILGQ</td>\n",
       "      <td>cracked-on-milwaukee-chicago</td>\n",
       "      <td>Cracked on Milwaukee</td>\n",
       "      <td>https://s3-media4.fl.yelpcdn.com/bphoto/8gLZf5...</td>\n",
       "      <td>False</td>\n",
       "      <td>https://www.yelp.com/biz/cracked-on-milwaukee-...</td>\n",
       "      <td>218</td>\n",
       "      <td>[{'alias': 'breakfast_brunch', 'title': 'Break...</td>\n",
       "      <td>4.5</td>\n",
       "      <td>{'latitude': 41.90671, 'longitude': -87.67125}</td>\n",
       "      <td>[pickup, delivery]</td>\n",
       "      <td>$$</td>\n",
       "      <td>{'address1': '1359 N Milwaukee Ave', 'address2...</td>\n",
       "      <td>+13129892247</td>\n",
       "      <td>(312) 989-2247</td>\n",
       "      <td>9682.484151</td>\n",
       "    </tr>\n",
       "    <tr>\n",
       "      <th>3</th>\n",
       "      <td>T9xKvh9GxwnuU_4WjYZb9w</td>\n",
       "      <td>wildberry-pancakes-and-cafe-chicago-4</td>\n",
       "      <td>Wildberry Pancakes and Cafe</td>\n",
       "      <td>https://s3-media4.fl.yelpcdn.com/bphoto/GgpPjQ...</td>\n",
       "      <td>False</td>\n",
       "      <td>https://www.yelp.com/biz/wildberry-pancakes-an...</td>\n",
       "      <td>1483</td>\n",
       "      <td>[{'alias': 'pancakes', 'title': 'Pancakes'}, {...</td>\n",
       "      <td>4.5</td>\n",
       "      <td>{'latitude': 41.8977379, 'longitude': -87.6220...</td>\n",
       "      <td>[pickup, delivery]</td>\n",
       "      <td>$$</td>\n",
       "      <td>{'address1': '196 E Pearson St', 'address2': '...</td>\n",
       "      <td>+13124700590</td>\n",
       "      <td>(312) 470-0590</td>\n",
       "      <td>11630.263302</td>\n",
       "    </tr>\n",
       "    <tr>\n",
       "      <th>4</th>\n",
       "      <td>o4MU9gK7epWUMv2WVW1qrA</td>\n",
       "      <td>yolk-streeterville-chicago-2</td>\n",
       "      <td>Yolk - Streeterville</td>\n",
       "      <td>https://s3-media2.fl.yelpcdn.com/bphoto/owClU_...</td>\n",
       "      <td>False</td>\n",
       "      <td>https://www.yelp.com/biz/yolk-streeterville-ch...</td>\n",
       "      <td>2581</td>\n",
       "      <td>[{'alias': 'breakfast_brunch', 'title': 'Break...</td>\n",
       "      <td>4.0</td>\n",
       "      <td>{'latitude': 41.89235678927749, 'longitude': -...</td>\n",
       "      <td>[pickup, delivery]</td>\n",
       "      <td>$$</td>\n",
       "      <td>{'address1': '355 E Ohio St', 'address2': '', ...</td>\n",
       "      <td>+13128229655</td>\n",
       "      <td>(312) 822-9655</td>\n",
       "      <td>11506.288492</td>\n",
       "    </tr>\n",
       "  </tbody>\n",
       "</table>\n",
       "</div>"
      ],
      "text/plain": [
       "                       id                                  alias  \\\n",
       "0  cKZNbMvoqJaUe7n6lf6i7w  wildberry-pancakes-and-cafe-chicago-2   \n",
       "1  nnP8axu680aDGPdQ4TuSkA                   wake-n-bacon-chicago   \n",
       "2  d7n-NmN_c65-8Gzz2FILGQ           cracked-on-milwaukee-chicago   \n",
       "3  T9xKvh9GxwnuU_4WjYZb9w  wildberry-pancakes-and-cafe-chicago-4   \n",
       "4  o4MU9gK7epWUMv2WVW1qrA           yolk-streeterville-chicago-2   \n",
       "\n",
       "                          name  \\\n",
       "0  Wildberry Pancakes and Cafe   \n",
       "1                Wake ‘n Bacon   \n",
       "2         Cracked on Milwaukee   \n",
       "3  Wildberry Pancakes and Cafe   \n",
       "4         Yolk - Streeterville   \n",
       "\n",
       "                                           image_url  is_closed  \\\n",
       "0  https://s3-media3.fl.yelpcdn.com/bphoto/uMLcfB...      False   \n",
       "1  https://s3-media1.fl.yelpcdn.com/bphoto/rbp7mW...      False   \n",
       "2  https://s3-media4.fl.yelpcdn.com/bphoto/8gLZf5...      False   \n",
       "3  https://s3-media4.fl.yelpcdn.com/bphoto/GgpPjQ...      False   \n",
       "4  https://s3-media2.fl.yelpcdn.com/bphoto/owClU_...      False   \n",
       "\n",
       "                                                 url  review_count  \\\n",
       "0  https://www.yelp.com/biz/wildberry-pancakes-an...          9225   \n",
       "1  https://www.yelp.com/biz/wake-n-bacon-chicago?...           418   \n",
       "2  https://www.yelp.com/biz/cracked-on-milwaukee-...           218   \n",
       "3  https://www.yelp.com/biz/wildberry-pancakes-an...          1483   \n",
       "4  https://www.yelp.com/biz/yolk-streeterville-ch...          2581   \n",
       "\n",
       "                                          categories  rating  \\\n",
       "0  [{'alias': 'pancakes', 'title': 'Pancakes'}, {...     4.5   \n",
       "1  [{'alias': 'breakfast_brunch', 'title': 'Break...     4.0   \n",
       "2  [{'alias': 'breakfast_brunch', 'title': 'Break...     4.5   \n",
       "3  [{'alias': 'pancakes', 'title': 'Pancakes'}, {...     4.5   \n",
       "4  [{'alias': 'breakfast_brunch', 'title': 'Break...     4.0   \n",
       "\n",
       "                                         coordinates  \\\n",
       "0    {'latitude': 41.884668, 'longitude': -87.62288}   \n",
       "1    {'latitude': 41.940442, 'longitude': -87.64041}   \n",
       "2     {'latitude': 41.90671, 'longitude': -87.67125}   \n",
       "3  {'latitude': 41.8977379, 'longitude': -87.6220...   \n",
       "4  {'latitude': 41.89235678927749, 'longitude': -...   \n",
       "\n",
       "                                 transactions price  \\\n",
       "0                          [pickup, delivery]    $$   \n",
       "1  [pickup, restaurant_reservation, delivery]    $$   \n",
       "2                          [pickup, delivery]    $$   \n",
       "3                          [pickup, delivery]    $$   \n",
       "4                          [pickup, delivery]    $$   \n",
       "\n",
       "                                            location         phone  \\\n",
       "0  {'address1': '130 E Randolph St', 'address2': ...  +13129389777   \n",
       "1  {'address1': '420 W Belmont Ave', 'address2': ...  +17738805100   \n",
       "2  {'address1': '1359 N Milwaukee Ave', 'address2...  +13129892247   \n",
       "3  {'address1': '196 E Pearson St', 'address2': '...  +13124700590   \n",
       "4  {'address1': '355 E Ohio St', 'address2': '', ...  +13128229655   \n",
       "\n",
       "    display_phone      distance  \n",
       "0  (312) 938-9777  10721.811415  \n",
       "1  (773) 880-5100  14211.336624  \n",
       "2  (312) 989-2247   9682.484151  \n",
       "3  (312) 470-0590  11630.263302  \n",
       "4  (312) 822-9655  11506.288492  "
      ]
     },
     "metadata": {},
     "output_type": "display_data"
    },
    {
     "data": {
      "text/html": [
       "<div>\n",
       "<style scoped>\n",
       "    .dataframe tbody tr th:only-of-type {\n",
       "        vertical-align: middle;\n",
       "    }\n",
       "\n",
       "    .dataframe tbody tr th {\n",
       "        vertical-align: top;\n",
       "    }\n",
       "\n",
       "    .dataframe thead th {\n",
       "        text-align: right;\n",
       "    }\n",
       "</style>\n",
       "<table border=\"1\" class=\"dataframe\">\n",
       "  <thead>\n",
       "    <tr style=\"text-align: right;\">\n",
       "      <th></th>\n",
       "      <th>id</th>\n",
       "      <th>alias</th>\n",
       "      <th>name</th>\n",
       "      <th>image_url</th>\n",
       "      <th>is_closed</th>\n",
       "      <th>url</th>\n",
       "      <th>review_count</th>\n",
       "      <th>categories</th>\n",
       "      <th>rating</th>\n",
       "      <th>coordinates</th>\n",
       "      <th>transactions</th>\n",
       "      <th>price</th>\n",
       "      <th>location</th>\n",
       "      <th>phone</th>\n",
       "      <th>display_phone</th>\n",
       "      <th>distance</th>\n",
       "    </tr>\n",
       "  </thead>\n",
       "  <tbody>\n",
       "    <tr>\n",
       "      <th>995</th>\n",
       "      <td>VUBka1EPLgiGYZBjMowLtQ</td>\n",
       "      <td>i-love-frys-villa-park</td>\n",
       "      <td>I Love Frys</td>\n",
       "      <td>https://s3-media3.fl.yelpcdn.com/bphoto/RMw1zo...</td>\n",
       "      <td>False</td>\n",
       "      <td>https://www.yelp.com/biz/i-love-frys-villa-par...</td>\n",
       "      <td>69</td>\n",
       "      <td>[{'alias': 'newamerican', 'title': 'American (...</td>\n",
       "      <td>4.5</td>\n",
       "      <td>{'latitude': 41.88826, 'longitude': -87.96949}</td>\n",
       "      <td>[pickup, delivery]</td>\n",
       "      <td>NaN</td>\n",
       "      <td>{'address1': '54 S Villa Ave', 'address2': Non...</td>\n",
       "      <td>+13317030552</td>\n",
       "      <td>(331) 703-0552</td>\n",
       "      <td>20694.951717</td>\n",
       "    </tr>\n",
       "    <tr>\n",
       "      <th>996</th>\n",
       "      <td>E3yRKqxWxBG9L041kVYrvQ</td>\n",
       "      <td>capital-one-café-chicago-6</td>\n",
       "      <td>Capital One Café</td>\n",
       "      <td>https://s3-media1.fl.yelpcdn.com/bphoto/AVuigB...</td>\n",
       "      <td>False</td>\n",
       "      <td>https://www.yelp.com/biz/capital-one-caf%C3%A9...</td>\n",
       "      <td>7</td>\n",
       "      <td>[{'alias': 'cafes', 'title': 'Cafes'}]</td>\n",
       "      <td>4.5</td>\n",
       "      <td>{'latitude': 41.7994057, 'longitude': -87.5892...</td>\n",
       "      <td>[]</td>\n",
       "      <td>$</td>\n",
       "      <td>{'address1': '1465 E 53rd St', 'address2': Non...</td>\n",
       "      <td>+17733584129</td>\n",
       "      <td>(773) 358-4129</td>\n",
       "      <td>12320.180593</td>\n",
       "    </tr>\n",
       "    <tr>\n",
       "      <th>997</th>\n",
       "      <td>--kVRdC7JJ2Ph5UaXQw6aA</td>\n",
       "      <td>jojo-s-diner-schaumburg</td>\n",
       "      <td>Jo Jo's Restaurant</td>\n",
       "      <td>https://s3-media3.fl.yelpcdn.com/bphoto/Mk3Xj5...</td>\n",
       "      <td>False</td>\n",
       "      <td>https://www.yelp.com/biz/jojo-s-diner-schaumbu...</td>\n",
       "      <td>229</td>\n",
       "      <td>[{'alias': 'tradamerican', 'title': 'American ...</td>\n",
       "      <td>4.0</td>\n",
       "      <td>{'latitude': 42.046957, 'longitude': -88.12665}</td>\n",
       "      <td>[pickup, delivery]</td>\n",
       "      <td>$$</td>\n",
       "      <td>{'address1': '1935 W Golf Rd', 'address2': '',...</td>\n",
       "      <td>+18478858786</td>\n",
       "      <td>(847) 885-8786</td>\n",
       "      <td>40503.041495</td>\n",
       "    </tr>\n",
       "    <tr>\n",
       "      <th>998</th>\n",
       "      <td>nrCsZq8efWiHSkx7Mx6wHg</td>\n",
       "      <td>davids-grill-chicago</td>\n",
       "      <td>David's Grill</td>\n",
       "      <td>https://s3-media1.fl.yelpcdn.com/bphoto/hQohVN...</td>\n",
       "      <td>False</td>\n",
       "      <td>https://www.yelp.com/biz/davids-grill-chicago?...</td>\n",
       "      <td>25</td>\n",
       "      <td>[{'alias': 'diners', 'title': 'Diners'}, {'ali...</td>\n",
       "      <td>3.5</td>\n",
       "      <td>{'latitude': 41.8527749, 'longitude': -87.6467...</td>\n",
       "      <td>[delivery]</td>\n",
       "      <td>$</td>\n",
       "      <td>{'address1': '800 W Cermak Rd', 'address2': ''...</td>\n",
       "      <td>+13126667727</td>\n",
       "      <td>(312) 666-7727</td>\n",
       "      <td>7364.027987</td>\n",
       "    </tr>\n",
       "    <tr>\n",
       "      <th>999</th>\n",
       "      <td>PXTmbLliu0xr-pptLJPFFw</td>\n",
       "      <td>jessies-country-kitchen-university-park</td>\n",
       "      <td>Jessie's Country Kitchen</td>\n",
       "      <td>https://s3-media4.fl.yelpcdn.com/bphoto/cv_XBu...</td>\n",
       "      <td>False</td>\n",
       "      <td>https://www.yelp.com/biz/jessies-country-kitch...</td>\n",
       "      <td>35</td>\n",
       "      <td>[{'alias': 'sandwiches', 'title': 'Sandwiches'...</td>\n",
       "      <td>4.0</td>\n",
       "      <td>{'latitude': 41.4275132745721, 'longitude': -8...</td>\n",
       "      <td>[delivery]</td>\n",
       "      <td>$</td>\n",
       "      <td>{'address1': '1307 Hamilton Ave', 'address2': ...</td>\n",
       "      <td>+17088855080</td>\n",
       "      <td>(708) 885-5080</td>\n",
       "      <td>45022.251039</td>\n",
       "    </tr>\n",
       "  </tbody>\n",
       "</table>\n",
       "</div>"
      ],
      "text/plain": [
       "                         id                                    alias  \\\n",
       "995  VUBka1EPLgiGYZBjMowLtQ                   i-love-frys-villa-park   \n",
       "996  E3yRKqxWxBG9L041kVYrvQ               capital-one-café-chicago-6   \n",
       "997  --kVRdC7JJ2Ph5UaXQw6aA                  jojo-s-diner-schaumburg   \n",
       "998  nrCsZq8efWiHSkx7Mx6wHg                     davids-grill-chicago   \n",
       "999  PXTmbLliu0xr-pptLJPFFw  jessies-country-kitchen-university-park   \n",
       "\n",
       "                         name  \\\n",
       "995               I Love Frys   \n",
       "996          Capital One Café   \n",
       "997        Jo Jo's Restaurant   \n",
       "998             David's Grill   \n",
       "999  Jessie's Country Kitchen   \n",
       "\n",
       "                                             image_url  is_closed  \\\n",
       "995  https://s3-media3.fl.yelpcdn.com/bphoto/RMw1zo...      False   \n",
       "996  https://s3-media1.fl.yelpcdn.com/bphoto/AVuigB...      False   \n",
       "997  https://s3-media3.fl.yelpcdn.com/bphoto/Mk3Xj5...      False   \n",
       "998  https://s3-media1.fl.yelpcdn.com/bphoto/hQohVN...      False   \n",
       "999  https://s3-media4.fl.yelpcdn.com/bphoto/cv_XBu...      False   \n",
       "\n",
       "                                                   url  review_count  \\\n",
       "995  https://www.yelp.com/biz/i-love-frys-villa-par...            69   \n",
       "996  https://www.yelp.com/biz/capital-one-caf%C3%A9...             7   \n",
       "997  https://www.yelp.com/biz/jojo-s-diner-schaumbu...           229   \n",
       "998  https://www.yelp.com/biz/davids-grill-chicago?...            25   \n",
       "999  https://www.yelp.com/biz/jessies-country-kitch...            35   \n",
       "\n",
       "                                            categories  rating  \\\n",
       "995  [{'alias': 'newamerican', 'title': 'American (...     4.5   \n",
       "996             [{'alias': 'cafes', 'title': 'Cafes'}]     4.5   \n",
       "997  [{'alias': 'tradamerican', 'title': 'American ...     4.0   \n",
       "998  [{'alias': 'diners', 'title': 'Diners'}, {'ali...     3.5   \n",
       "999  [{'alias': 'sandwiches', 'title': 'Sandwiches'...     4.0   \n",
       "\n",
       "                                           coordinates        transactions  \\\n",
       "995     {'latitude': 41.88826, 'longitude': -87.96949}  [pickup, delivery]   \n",
       "996  {'latitude': 41.7994057, 'longitude': -87.5892...                  []   \n",
       "997    {'latitude': 42.046957, 'longitude': -88.12665}  [pickup, delivery]   \n",
       "998  {'latitude': 41.8527749, 'longitude': -87.6467...          [delivery]   \n",
       "999  {'latitude': 41.4275132745721, 'longitude': -8...          [delivery]   \n",
       "\n",
       "    price                                           location         phone  \\\n",
       "995   NaN  {'address1': '54 S Villa Ave', 'address2': Non...  +13317030552   \n",
       "996     $  {'address1': '1465 E 53rd St', 'address2': Non...  +17733584129   \n",
       "997    $$  {'address1': '1935 W Golf Rd', 'address2': '',...  +18478858786   \n",
       "998     $  {'address1': '800 W Cermak Rd', 'address2': ''...  +13126667727   \n",
       "999     $  {'address1': '1307 Hamilton Ave', 'address2': ...  +17088855080   \n",
       "\n",
       "      display_phone      distance  \n",
       "995  (331) 703-0552  20694.951717  \n",
       "996  (773) 358-4129  12320.180593  \n",
       "997  (847) 885-8786  40503.041495  \n",
       "998  (312) 666-7727   7364.027987  \n",
       "999  (708) 885-5080  45022.251039  "
      ]
     },
     "metadata": {},
     "output_type": "display_data"
    }
   ],
   "source": [
    "#load final results\n",
    "final_df = pd.read_json(JSON)\n",
    "display(final_df.head(), final_df.tail())"
   ]
  },
  {
   "cell_type": "code",
   "execution_count": 10,
   "id": "5227f267",
   "metadata": {
    "scrolled": true
   },
   "outputs": [
    {
     "data": {
      "text/plain": [
       "25"
      ]
     },
     "execution_count": 10,
     "metadata": {},
     "output_type": "execute_result"
    }
   ],
   "source": [
    "final_df.duplicated(subset='id').sum()"
   ]
  },
  {
   "cell_type": "code",
   "execution_count": 11,
   "id": "005778b4",
   "metadata": {},
   "outputs": [
    {
     "data": {
      "text/plain": [
       "0"
      ]
     },
     "execution_count": 11,
     "metadata": {},
     "output_type": "execute_result"
    }
   ],
   "source": [
    "final_df = final_df.drop_duplicates(subset='id')\n",
    "final_df.duplicated(subset='id').sum()"
   ]
  },
  {
   "cell_type": "code",
   "execution_count": 12,
   "id": "3af172fd",
   "metadata": {},
   "outputs": [],
   "source": [
    "final_df.to_csv('Data/final_results_breakfast.csv.gz', compression='gzip',index=False)"
   ]
  }
 ],
 "metadata": {
  "kernelspec": {
   "display_name": "Python (dojo-env)",
   "language": "python",
   "name": "dojo-env"
  },
  "language_info": {
   "codemirror_mode": {
    "name": "ipython",
    "version": 3
   },
   "file_extension": ".py",
   "mimetype": "text/x-python",
   "name": "python",
   "nbconvert_exporter": "python",
   "pygments_lexer": "ipython3",
   "version": "3.9.15"
  },
  "toc": {
   "base_numbering": 1,
   "nav_menu": {},
   "number_sections": true,
   "sideBar": true,
   "skip_h1_title": false,
   "title_cell": "Table of Contents",
   "title_sidebar": "Contents",
   "toc_cell": false,
   "toc_position": {},
   "toc_section_display": true,
   "toc_window_display": false
  }
 },
 "nbformat": 4,
 "nbformat_minor": 5
}
